{
 "cells": [
  {
   "cell_type": "markdown",
   "id": "73671e8a",
   "metadata": {},
   "source": [
    "\n",
    "## 1. Importar Paquetes y Datos"
   ]
  },
  {
   "cell_type": "code",
   "execution_count": 95,
   "id": "bb7fbc50",
   "metadata": {},
   "outputs": [],
   "source": [
    "# Operating System\n",
    "import os\n",
    "\n",
    "# Packages for strings\n",
    "import re\n",
    "from unidecode import unidecode\n",
    "\n",
    "# Packages for data analysis\n",
    "\n",
    "import numpy as np\n",
    "import pandas as pd\n",
    "from scipy import stats\n",
    "from itertools import combinations\n",
    "import pingouin as pg\n",
    "\n",
    "# Custom Preprocess\n",
    "from preprocess_module import binning_cols\n",
    "\n",
    "# Packages for visualizations\n",
    "import matplotlib.pyplot as plt\n",
    "import seaborn as sns"
   ]
  },
  {
   "cell_type": "code",
   "execution_count": 96,
   "id": "1a301bac",
   "metadata": {},
   "outputs": [],
   "source": [
    "df0 = pd.read_csv('ResultadoClusteringBogota.csv')\n",
    "df0 = df0.drop('Unnamed: 0', axis=1)\n",
    "#,index_col=1"
   ]
  },
  {
   "cell_type": "code",
   "execution_count": 97,
   "id": "c9a038e3",
   "metadata": {},
   "outputs": [
    {
     "name": "stdout",
     "output_type": "stream",
     "text": [
      "<class 'pandas.core.frame.DataFrame'>\n",
      "RangeIndex: 537 entries, 0 to 536\n",
      "Data columns (total 8 columns):\n",
      " #   Column                        Non-Null Count  Dtype  \n",
      "---  ------                        --------------  -----  \n",
      " 0   cod_sect                      537 non-null    int64  \n",
      " 1   conteo_sucursales             537 non-null    float64\n",
      " 2   conteo_cbs_uno_a_uno          537 non-null    float64\n",
      " 3   conteo_cbs_robustos           537 non-null    float64\n",
      " 4   conteo_cbs_agregador          537 non-null    float64\n",
      " 5   conteo_atms_dispensadores     537 non-null    float64\n",
      " 6   conteo_atms_multifuncionales  537 non-null    float64\n",
      " 7   Cluster                       537 non-null    object \n",
      "dtypes: float64(6), int64(1), object(1)\n",
      "memory usage: 33.7+ KB\n"
     ]
    }
   ],
   "source": [
    "df0.info()"
   ]
  },
  {
   "cell_type": "markdown",
   "id": "7ed17785",
   "metadata": {},
   "source": [
    "\n",
    "###  Lectura y filtros"
   ]
  },
  {
   "cell_type": "code",
   "execution_count": 98,
   "id": "b2eeaac3",
   "metadata": {},
   "outputs": [],
   "source": [
    "# Leer el csv\n",
    "df = pd.read_csv('Base_Nueva_Microsegmentacion_Indicadores.csv', delimiter=';')\n",
    "\n",
    "# Función para limpiar los nombres\n",
    "def clean_string(string):\n",
    "    # Remove spaces\n",
    "    string = re.sub(r'\\s', '_', string)\n",
    "    # Remove accents\n",
    "    string = unidecode(string)\n",
    "    # Remove punctuation and replace hyphens with underscores\n",
    "    string = re.sub(r'[^\\w\\s-]', '', string)\n",
    "    string = re.sub(r'-', '_', string)\n",
    "    # Convert to lowercase\n",
    "    string = string.lower()\n",
    "    return string\n",
    "\n",
    "# Transformar el nombre de las columnas\n",
    "df.columns = list(map(clean_string, list(df.columns)))\n",
    "\n",
    "# Filtrar los datos para obtener unicamente la información de Bogotá\n",
    "df = df.loc[df['cod_cpob'] == 11001000].copy().reset_index(drop=True)"
   ]
  },
  {
   "cell_type": "code",
   "execution_count": 99,
   "id": "428fd420",
   "metadata": {},
   "outputs": [
    {
     "name": "stdout",
     "output_type": "stream",
     "text": [
      "<class 'pandas.core.frame.DataFrame'>\n",
      "RangeIndex: 537 entries, 0 to 536\n",
      "Data columns (total 86 columns):\n",
      " #   Column                                                        Non-Null Count  Dtype  \n",
      "---  ------                                                        --------------  -----  \n",
      " 0   cod_dpto                                                      537 non-null    int64  \n",
      " 1   cod_mpio                                                      537 non-null    int64  \n",
      " 2   cod_cpob                                                      537 non-null    int64  \n",
      " 3   cod_sect                                                      537 non-null    int64  \n",
      " 4   shape_leng                                                    537 non-null    float64\n",
      " 5   shape_area                                                    537 non-null    float64\n",
      " 6   setu_ccdgo                                                    537 non-null    int64  \n",
      " 7   geometry                                                      537 non-null    object \n",
      " 8   conteo_clientes                                               537 non-null    float64\n",
      " 9   promedio_ingresos_mensuales                                   537 non-null    float64\n",
      " 10  promedio_edad_clientes                                        537 non-null    float64\n",
      " 11  suma_tc                                                       537 non-null    float64\n",
      " 12  segmentos_predominantes                                       537 non-null    object \n",
      " 13  conteo_segm_constructor_pyme                                  537 non-null    float64\n",
      " 14  conteo_segm_gobierno_de_red                                   537 non-null    float64\n",
      " 15  conteo_segm_independientes                                    537 non-null    float64\n",
      " 16  conteo_segm_personal                                          537 non-null    float64\n",
      " 17  conteo_segm_plus                                              537 non-null    float64\n",
      " 18  conteo_segm_pymes                                             537 non-null    float64\n",
      " 19  conteo_segm_social                                            537 non-null    float64\n",
      " 20  perfiles_predominantes                                        537 non-null    object \n",
      " 21  conteo_perfil_alto_avanzado                                   537 non-null    float64\n",
      " 22  conteo_perfil_alto_experto                                    537 non-null    float64\n",
      " 23  conteo_perfil_alto_moderado                                   537 non-null    float64\n",
      " 24  conteo_perfil_analogo_no_aplica                               537 non-null    float64\n",
      " 25  conteo_perfil_bajo_avanzado                                   537 non-null    float64\n",
      " 26  conteo_perfil_bajo_experto                                    537 non-null    float64\n",
      " 27  conteo_perfil_bajo_moderado                                   537 non-null    float64\n",
      " 28  conteo_perfil_medio_avanzado                                  537 non-null    float64\n",
      " 29  conteo_perfil_medio_experto                                   537 non-null    float64\n",
      " 30  conteo_perfil_medio_moderado                                  537 non-null    float64\n",
      " 31  conteo_perfil_muy_alto_avanzado                               537 non-null    float64\n",
      " 32  conteo_perfil_muy_alto_experto                                537 non-null    float64\n",
      " 33  conteo_perfil_muy_alto_moderado                               537 non-null    float64\n",
      " 34  conteo_perfil_muy_bajo_avanzado                               537 non-null    float64\n",
      " 35  conteo_perfil_muy_bajo_experto                                537 non-null    float64\n",
      " 36  conteo_perfil_muy_bajo_moderado                               537 non-null    float64\n",
      " 37  conteo_perfil_no_transaccional_no_aplica                      537 non-null    float64\n",
      " 38  conteo_perfil_potencial_basico                                537 non-null    float64\n",
      " 39  calificacion_promedio_sucursales                              537 non-null    float64\n",
      " 40  desviacion_estandar_sucursales                                537 non-null    float64\n",
      " 41  conteo_sucursales                                             537 non-null    float64\n",
      " 42  indicador_rotacion_cupos_cbs_uno_a_uno                        537 non-null    float64\n",
      " 43  indicador_ticket_promedio_entrada_cbs_uno_a_uno               537 non-null    float64\n",
      " 44  indicador_ticket_promedio_salida_cbs_uno_a_uno                537 non-null    float64\n",
      " 45  indicador_relacion_cash_in_cash_out_cbs_uno_a_uno             537 non-null    float64\n",
      " 46  indicador_relacion_relacion_trxs_no_monetarias_cbs_uno_a_uno  537 non-null    float64\n",
      " 47  indicador_compensaciones_cbs_uno_a_uno                        537 non-null    float64\n",
      " 48  indicador_venta_seguros_cbs_uno_a_uno                         537 non-null    float64\n",
      " 49  indicador_capacidad_cbs_uno_a_uno                             537 non-null    float64\n",
      " 50  indicador_rotacion_cupos_cbs_robusto                          537 non-null    float64\n",
      " 51  indicador_ticket_promedio_entrada_cbs_robusto                 537 non-null    float64\n",
      " 52  indicador_ticket_promedio_salida_cbs_robusto                  537 non-null    float64\n",
      " 53  indicador_relacion_cash_in_cash_out_cbs_robusto               537 non-null    float64\n",
      " 54  indicador_relacion_relacion_trxs_no_monetarias_cbs_robusto    537 non-null    float64\n",
      " 55  indicador_compensaciones_cbs_robusto                          537 non-null    float64\n",
      " 56  indicador_venta_seguros_cbs_robusto                           537 non-null    float64\n",
      " 57  indicador_capacidad_cbs_robusto                               537 non-null    float64\n",
      " 58  indicador_rotacion_cupos_cbs_agregador                        537 non-null    float64\n",
      " 59  indicador_ticket_promedio_entrada_cbs_agregador               537 non-null    float64\n",
      " 60  indicador_ticket_promedio_salida_cbs_agregador                537 non-null    float64\n",
      " 61  indicador_relacion_cash_in_cash_out_cbs_agregador             537 non-null    float64\n",
      " 62  indicador_relacion_relacion_trxs_no_monetarias_cbs_agregador  537 non-null    float64\n",
      " 63  indicador_compensaciones_cbs_agregador                        537 non-null    float64\n",
      " 64  indicador_venta_seguros_cbs_agregador                         537 non-null    float64\n",
      " 65  indicador_capacidad_cbs_agregador                             537 non-null    float64\n",
      " 66  conteo_cbs_uno_a_uno                                          537 non-null    float64\n",
      " 67  conteo_transacciones_cbs_uno_a_uno                            537 non-null    float64\n",
      " 68  promedio_transacciones_cbs_uno_a_uno                          537 non-null    float64\n",
      " 69  desviacion_transacciones_cbs_uno_a_uno                        537 non-null    float64\n",
      " 70  conteo_cbs_robustos                                           537 non-null    float64\n",
      " 71  conteo_transacciones_cbs_robustos                             537 non-null    float64\n",
      " 72  promedio_transacciones_cbs_robustos                           537 non-null    float64\n",
      " 73  desviacion_transacciones_cbs_robustos                         537 non-null    float64\n",
      " 74  conteo_cbs_agregador                                          537 non-null    float64\n",
      " 75  conteo_transacciones_cbs_agregador                            537 non-null    float64\n",
      " 76  promedio_transacciones_cbs_agregador                          537 non-null    float64\n",
      " 77  desviacion_transacciones_cbs_agregador                        537 non-null    float64\n",
      " 78  conteo_atms_dispensadores                                     537 non-null    float64\n",
      " 79  conteo_transacciones_atms_dispensadores                       537 non-null    float64\n",
      " 80  promedio_transacciones_atms_dispensadores                     537 non-null    float64\n",
      " 81  desviacion_transacciones_atms_dispensadores                   537 non-null    float64\n",
      " 82  conteo_atms_multifuncionales                                  537 non-null    float64\n",
      " 83  conteo_transacciones_atms_multifuncionales                    537 non-null    float64\n",
      " 84  promedio_transacciones_atms_multifuncionales                  537 non-null    float64\n",
      " 85  desviacion_transacciones_atms_multifuncionales                537 non-null    float64\n",
      "dtypes: float64(78), int64(5), object(3)\n",
      "memory usage: 360.9+ KB\n"
     ]
    }
   ],
   "source": [
    "df.info()"
   ]
  },
  {
   "cell_type": "code",
   "execution_count": 113,
   "id": "9a805147",
   "metadata": {},
   "outputs": [],
   "source": [
    "prueba = df0.merge(df.iloc[:, [3,8,9,10,11,39,67,68,71,72,75,76,79,80,83,84]], how='left', left_on=\"cod_sect\",right_on=\"cod_sect\")"
   ]
  },
  {
   "cell_type": "markdown",
   "id": "60b05111",
   "metadata": {},
   "source": [
    "## 2. Desbalanceo y reemplazo de outliers"
   ]
  },
  {
   "cell_type": "code",
   "execution_count": 101,
   "id": "e66d1d82",
   "metadata": {},
   "outputs": [
    {
     "name": "stdout",
     "output_type": "stream",
     "text": [
      "conteo_sucursales [0.0, 1.0, 2.0]\n",
      "conteo_cbs_robustos [0.0, 1.0, 2.0, 3.0]\n",
      "conteo_atms_multifuncionales [0.0, 1.0, 2.0, 3.0, 4.0]\n",
      "------------------------------------------------------------\n",
      "conteo_sucursales [0.0, 1.0]\n",
      "conteo_cbs_robustos [0.0, 1.0]\n",
      "conteo_atms_multifuncionales [0.0, 1.0]\n"
     ]
    }
   ],
   "source": [
    "# Highly imbalance categorical columns and high zeros columns -> BINNING\n",
    "categorical_imbalance = [\n",
    "    'conteo_sucursales',\n",
    "    'conteo_cbs_robustos',\n",
    "    'conteo_atms_multifuncionales',\n",
    "]\n",
    "\n",
    "for col in categorical_imbalance:\n",
    "    list_val =  prueba[col].unique().tolist()\n",
    "    list_val.sort()\n",
    "    print(col, list_val)\n",
    "\n",
    "print('-'*60)\n",
    "\n",
    "prueba = binning_cols(prueba, categorical_imbalance, threshold_percentage=0.1)\n",
    "\n",
    "for col in categorical_imbalance:\n",
    "    list_val =  prueba[col].unique().tolist()\n",
    "    list_val.sort()\n",
    "    print(col, list_val)"
   ]
  },
  {
   "cell_type": "code",
   "execution_count": 114,
   "id": "5c144b16",
   "metadata": {},
   "outputs": [
    {
     "name": "stdout",
     "output_type": "stream",
     "text": [
      "<class 'pandas.core.frame.DataFrame'>\n",
      "Int64Index: 537 entries, 0 to 536\n",
      "Data columns (total 23 columns):\n",
      " #   Column                                        Non-Null Count  Dtype  \n",
      "---  ------                                        --------------  -----  \n",
      " 0   cod_sect                                      537 non-null    int64  \n",
      " 1   conteo_sucursales                             537 non-null    float64\n",
      " 2   conteo_cbs_uno_a_uno                          537 non-null    float64\n",
      " 3   conteo_cbs_robustos                           537 non-null    float64\n",
      " 4   conteo_cbs_agregador                          537 non-null    float64\n",
      " 5   conteo_atms_dispensadores                     537 non-null    float64\n",
      " 6   conteo_atms_multifuncionales                  537 non-null    float64\n",
      " 7   Cluster                                       537 non-null    object \n",
      " 8   conteo_clientes                               537 non-null    float64\n",
      " 9   promedio_ingresos_mensuales                   537 non-null    float64\n",
      " 10  promedio_edad_clientes                        537 non-null    float64\n",
      " 11  suma_tc                                       537 non-null    float64\n",
      " 12  calificacion_promedio_sucursales              537 non-null    float64\n",
      " 13  conteo_transacciones_cbs_uno_a_uno            537 non-null    float64\n",
      " 14  promedio_transacciones_cbs_uno_a_uno          537 non-null    float64\n",
      " 15  conteo_transacciones_cbs_robustos             537 non-null    float64\n",
      " 16  promedio_transacciones_cbs_robustos           537 non-null    float64\n",
      " 17  conteo_transacciones_cbs_agregador            537 non-null    float64\n",
      " 18  promedio_transacciones_cbs_agregador          537 non-null    float64\n",
      " 19  conteo_transacciones_atms_dispensadores       537 non-null    float64\n",
      " 20  promedio_transacciones_atms_dispensadores     537 non-null    float64\n",
      " 21  conteo_transacciones_atms_multifuncionales    537 non-null    float64\n",
      " 22  promedio_transacciones_atms_multifuncionales  537 non-null    float64\n",
      "dtypes: float64(21), int64(1), object(1)\n",
      "memory usage: 100.7+ KB\n"
     ]
    }
   ],
   "source": [
    "prueba.info()"
   ]
  },
  {
   "cell_type": "code",
   "execution_count": 103,
   "id": "48a9c7fb",
   "metadata": {},
   "outputs": [],
   "source": [
    "def replace_outliers_whisker(df, columns):\n",
    "    copy_df = df.copy()\n",
    "    for column in columns:\n",
    "        Q1 = copy_df[column].quantile(0.25)\n",
    "        Q3 = copy_df[column].quantile(0.75)\n",
    "        IQR = Q3 - Q1\n",
    "        whisker_width = 1.5\n",
    "        lower_whisker = Q1 - (whisker_width*IQR)\n",
    "        upper_whisker = Q3 + (whisker_width*IQR)\n",
    "        copy_df.loc[copy_df[column] < lower_whisker, column] = lower_whisker\n",
    "        copy_df.loc[copy_df[column] > upper_whisker, column] = upper_whisker\n",
    "    return copy_df\n",
    "\n",
    "continuous_columns = list(set(prueba.iloc[:, 8:].columns).difference(set(categorical_imbalance)))\n",
    "prueba = replace_outliers_whisker(prueba, continuous_columns)"
   ]
  },
  {
   "cell_type": "code",
   "execution_count": 104,
   "id": "e4bba158",
   "metadata": {},
   "outputs": [
    {
     "data": {
      "text/plain": [
       "05 UNICANAL: SOLO 1A1                   123\n",
       "07 BICANAL: AGR & 1A1                   107\n",
       "08 TRICANAL: ATM & AGR & 1A1             55\n",
       "06 BICANAL: ATM & 1A1                    53\n",
       "00 MULTICANAL: Sucursal                  46\n",
       "01 MULTICANAL: CB Robusto                38\n",
       "02 MULTICANAL: CB Robusto + Sucursal     38\n",
       "04 UNICANAL: SOLO AGR                    30\n",
       "03 UNICANAL: SOLO ATM                    28\n",
       "99 De todo un poco (Noise)               19\n",
       "Name: Cluster, dtype: int64"
      ]
     },
     "execution_count": 104,
     "metadata": {},
     "output_type": "execute_result"
    }
   ],
   "source": [
    "prueba['Cluster'].value_counts()"
   ]
  },
  {
   "cell_type": "code",
   "execution_count": 12,
   "id": "de61ea69",
   "metadata": {},
   "outputs": [],
   "source": [
    "# Creación de los diferentes subsets por cluster\n",
    "#dc0 = prueba[prueba['Cluster'] == '00 MULTICANAL: Sucursal']\n",
    "#dc1 = prueba[prueba['Cluster'] == '01 MULTICANAL: CB Robusto']\n",
    "#dc2 = prueba[prueba['Cluster'] == '02 MULTICANAL: CB Robusto + Sucursal']\n",
    "#dc3 = prueba[prueba['Cluster'] == '03 UNICANAL: SOLO ATM']\n",
    "#dc4 = prueba[prueba['Cluster'] == '04 UNICANAL: SOLO AGR']\n",
    "#dc5 = prueba[prueba['Cluster'] == '05 UNICANAL: SOLO 1A1']\n",
    "#dc6 = prueba[prueba['Cluster'] == '06 BICANAL: ATM & 1A1']\n",
    "#dc7 = prueba[prueba['Cluster'] == '07 BICANAL: AGR & 1A1']\n",
    "#dc8 = prueba[prueba['Cluster'] == '08 TRICANAL: ATM & AGR & 1A1']\n",
    "#dc9 = prueba[prueba['Cluster'] == '99 De todo un poco (Noise)']"
   ]
  },
  {
   "cell_type": "code",
   "execution_count": 115,
   "id": "a610575e",
   "metadata": {},
   "outputs": [],
   "source": [
    "# Sucursales\n",
    "df_suc = prueba[prueba['Cluster'].isin(['00 MULTICANAL: Sucursal',\n",
    "                                         '02 MULTICANAL: CB Robusto + Sucursal'])]\n",
    "\n",
    "#ATMS DIS\n",
    "df_atms = prueba[prueba['Cluster'].isin(['00 MULTICANAL: Sucursal',\n",
    "                                         '01 MULTICANAL: CB Robusto',\n",
    "                                         '02 MULTICANAL: CB Robusto + Sucursal',\n",
    "                                         '03 UNICANAL: SOLO ATM',\n",
    "                                         '06 BICANAL: ATM & 1A1',\n",
    "                                         '08 TRICANAL: ATM & AGR & 1A1'])]\n",
    "\n",
    "#CBS Uno A Uno y Agregadores \"informales\"  \n",
    "df_cbs_1 = prueba[prueba['Cluster'].isin(['04 UNICANAL: SOLO AGR',\n",
    "                                          '05 UNICANAL: SOLO 1A1',\n",
    "                                          '06 BICANAL: ATM & 1A1',\n",
    "                                          '07 BICANAL: AGR & 1A1',\n",
    "                                          '08 TRICANAL: ATM & AGR & 1A1'])]\n",
    "\n",
    "#CBS robusto \"formales\" \n",
    "df_cbs_2 = prueba[prueba['Cluster'].isin(['01 MULTICANAL: CB Robusto',\n",
    "                                          '02 MULTICANAL: CB Robusto + Sucursal'])]\n"
   ]
  },
  {
   "cell_type": "markdown",
   "id": "2ddab8a2",
   "metadata": {},
   "source": [
    "## 3. Analisis"
   ]
  },
  {
   "cell_type": "markdown",
   "id": "9844c7f0",
   "metadata": {},
   "source": [
    "### ATMs Dispensadores"
   ]
  },
  {
   "cell_type": "code",
   "execution_count": 121,
   "id": "e849e85c",
   "metadata": {},
   "outputs": [
    {
     "name": "stdout",
     "output_type": "stream",
     "text": [
      "                                    Multiple Comparison of Means - Tukey HSD, FWER=0.05                                    \n",
      "===========================================================================================================================\n",
      "               group1                               group2                  meandiff  p-adj     lower       upper    reject\n",
      "---------------------------------------------------------------------------------------------------------------------------\n",
      "             00 MULTICANAL: Sucursal            01 MULTICANAL: CB Robusto  -7848.4851 0.4049 -19715.0322    4018.062  False\n",
      "             00 MULTICANAL: Sucursal 02 MULTICANAL: CB Robusto + Sucursal  38192.5412    0.0  26325.9941  50059.0883   True\n",
      "             00 MULTICANAL: Sucursal                03 UNICANAL: SOLO ATM -17476.2314 0.0019 -30451.4106  -4501.0521   True\n",
      "             00 MULTICANAL: Sucursal                06 BICANAL: ATM & 1A1 -17157.6202 0.0001 -28065.8979  -6249.3425   True\n",
      "             00 MULTICANAL: Sucursal         08 TRICANAL: ATM & AGR & 1A1 -11753.2775 0.0244 -22569.0082   -937.5468   True\n",
      "           01 MULTICANAL: CB Robusto 02 MULTICANAL: CB Robusto + Sucursal  46041.0263    0.0  33622.2548  58459.7979   True\n",
      "           01 MULTICANAL: CB Robusto                03 UNICANAL: SOLO ATM  -9627.7462 0.3168 -23109.8167   3854.3242  False\n",
      "           01 MULTICANAL: CB Robusto                06 BICANAL: ATM & 1A1  -9309.1351 0.1886 -20815.7188   2197.4487  False\n",
      "           01 MULTICANAL: CB Robusto         08 TRICANAL: ATM & AGR & 1A1  -3904.7923 0.9233 -15323.6792   7514.0945  False\n",
      "02 MULTICANAL: CB Robusto + Sucursal                03 UNICANAL: SOLO ATM -55668.7726    0.0  -69150.843 -42186.7021   True\n",
      "02 MULTICANAL: CB Robusto + Sucursal                06 BICANAL: ATM & 1A1 -55350.1614    0.0 -66856.7451 -43843.5776   True\n",
      "02 MULTICANAL: CB Robusto + Sucursal         08 TRICANAL: ATM & AGR & 1A1 -49945.8187    0.0 -61364.7055 -38526.9318   True\n",
      "               03 UNICANAL: SOLO ATM                06 BICANAL: ATM & 1A1    318.6112    1.0 -12328.1989  12965.4213  False\n",
      "               03 UNICANAL: SOLO ATM         08 TRICANAL: ATM & AGR & 1A1   5722.9539 0.7806  -6844.1187  18290.0265  False\n",
      "               06 BICANAL: ATM & 1A1         08 TRICANAL: ATM & AGR & 1A1   5404.3427 0.6713  -5015.1851  15823.8705  False\n",
      "---------------------------------------------------------------------------------------------------------------------------\n"
     ]
    }
   ],
   "source": [
    "import statsmodels.api as sm\n",
    "from statsmodels.formula.api import ols\n",
    "from statsmodels.stats.multicomp import MultiComparison\n",
    "modelo_anova = ols('conteo_transacciones_atms_dispensadores ~ Cluster', data=df_atms).fit()\n",
    "anova_tabla = sm.stats.anova_lm(modelo_anova, typ=2)\n",
    "\n",
    "# Crea un objeto MultiComparison para el análisis de Tukey\n",
    "mc = MultiComparison(df_atms['conteo_transacciones_atms_dispensadores'], df_atms['Cluster'])\n",
    "\n",
    "# Realiza el análisis de Tukey\n",
    "resultado_tukey = mc.tukeyhsd()\n",
    "\n",
    "# Imprime el resultado del análisis de Tukey\n",
    "print(resultado_tukey)"
   ]
  },
  {
   "cell_type": "code",
   "execution_count": 107,
   "id": "41bbf51d",
   "metadata": {},
   "outputs": [
    {
     "data": {
      "text/plain": [
       "Cluster\n",
       "00 MULTICANAL: Sucursal                 216.0\n",
       "01 MULTICANAL: CB Robusto                94.0\n",
       "02 MULTICANAL: CB Robusto + Sucursal    337.0\n",
       "03 UNICANAL: SOLO ATM                    50.0\n",
       "06 BICANAL: ATM & 1A1                   100.0\n",
       "08 TRICANAL: ATM & AGR & 1A1            120.0\n",
       "Name: conteo_atms_dispensadores, dtype: float64"
      ]
     },
     "execution_count": 107,
     "metadata": {},
     "output_type": "execute_result"
    }
   ],
   "source": [
    "df_atms.groupby('Cluster')['conteo_atms_dispensadores'].sum()"
   ]
  },
  {
   "cell_type": "code",
   "execution_count": 108,
   "id": "a0e97407",
   "metadata": {},
   "outputs": [
    {
     "data": {
      "text/plain": [
       "Cluster\n",
       "00 MULTICANAL: Sucursal                 1315420.0\n",
       "01 MULTICANAL: CB Robusto                793421.0\n",
       "02 MULTICANAL: CB Robusto + Sucursal    1770311.0\n",
       "03 UNICANAL: SOLO ATM                    360149.0\n",
       "06 BICANAL: ATM & 1A1                    698597.0\n",
       "08 TRICANAL: ATM & AGR & 1A1            1005993.0\n",
       "Name: conteo_transacciones_atms_dispensadores, dtype: float64"
      ]
     },
     "execution_count": 108,
     "metadata": {},
     "output_type": "execute_result"
    }
   ],
   "source": [
    "df_atms.groupby('Cluster')['conteo_transacciones_atms_dispensadores'].sum()"
   ]
  },
  {
   "cell_type": "code",
   "execution_count": 109,
   "id": "3db5285c",
   "metadata": {},
   "outputs": [
    {
     "data": {
      "text/plain": [
       "Cluster\n",
       "00 MULTICANAL: Sucursal                 28596.086957\n",
       "01 MULTICANAL: CB Robusto               20879.500000\n",
       "02 MULTICANAL: CB Robusto + Sucursal    46587.131579\n",
       "03 UNICANAL: SOLO ATM                   12862.464286\n",
       "06 BICANAL: ATM & 1A1                   13181.075472\n",
       "08 TRICANAL: ATM & AGR & 1A1            18290.781818\n",
       "Name: conteo_transacciones_atms_dispensadores, dtype: float64"
      ]
     },
     "execution_count": 109,
     "metadata": {},
     "output_type": "execute_result"
    }
   ],
   "source": [
    "df_atms.groupby('Cluster')['conteo_transacciones_atms_dispensadores'].mean()"
   ]
  },
  {
   "cell_type": "code",
   "execution_count": 110,
   "id": "8e1bf37b",
   "metadata": {},
   "outputs": [
    {
     "data": {
      "text/plain": [
       "Cluster\n",
       "00 MULTICANAL: Sucursal                 28761.0\n",
       "01 MULTICANAL: CB Robusto               18369.5\n",
       "02 MULTICANAL: CB Robusto + Sucursal    52255.0\n",
       "03 UNICANAL: SOLO ATM                   10424.5\n",
       "06 BICANAL: ATM & 1A1                   10288.0\n",
       "08 TRICANAL: ATM & AGR & 1A1            15395.0\n",
       "Name: conteo_transacciones_atms_dispensadores, dtype: float64"
      ]
     },
     "execution_count": 110,
     "metadata": {},
     "output_type": "execute_result"
    }
   ],
   "source": [
    "df_atms.groupby('Cluster')['conteo_transacciones_atms_dispensadores'].median()"
   ]
  },
  {
   "cell_type": "markdown",
   "id": "627a2d0a",
   "metadata": {},
   "source": [
    "**Conclusiones:** \n",
    "\n",
    "1. Al comparar los cluster 2-3, 2-6 y 2-8 podemos evidenciar que hay diferencias significativas en la cantidad promedio de transacciones en atms dispensadores, es claro que en el cluster dos predomina el numero medio de transacciones sobre los demas cluster debido a que es en el que mas cantidad de atms encontramos, sin embargo, este no es el canal que sobresale en el criterio de clasificación. \n",
    "\n",
    "\n",
    "2. Si tenemos en cuenta los cluster 3,6,7 en los cuales los atms tienen un comportamiento similar en su numero promedio de transacciones segun la prueba, cabe recalcar que si los juntamos **(tanto en cantidad de atms como en numero promedio de transacciones)** no se alcanza a superar el numero que aporta el cluster 2. De acuerdo con esto, podriamos decir que el hecho de que los atms esten complementados a sus alrededores con CB robustos y sucursales ayuda a que haya una mayor cantidad de transacciones en los atms dispensadores. La anterior conclusion tiene sentido debido a que los cb Robustos son el formato que se podria ver como mas formal en comparacion con los demas y la sucursal es aquel espacio donde el cliente se siente mas cercano al banco. Notemos que la anterior hipotesis al analizar con respecto a los otros dos cluster que son el 0 y el 1 tambien observamos altos valores de cantidades promedio de transacciones y estos canales estan respaldados individualmente en el cluster 00 por sucursales y en el cluster 1 por CB robustos."
   ]
  },
  {
   "cell_type": "markdown",
   "id": "9b402790",
   "metadata": {},
   "source": [
    "### Corresponsales Agregador"
   ]
  },
  {
   "cell_type": "code",
   "execution_count": 112,
   "id": "a1bffbad",
   "metadata": {},
   "outputs": [
    {
     "name": "stdout",
     "output_type": "stream",
     "text": [
      "                      Multiple Comparison of Means - Tukey HSD, FWER=0.05                       \n",
      "================================================================================================\n",
      "        group1                   group2             meandiff  p-adj    lower      upper   reject\n",
      "------------------------------------------------------------------------------------------------\n",
      "04 UNICANAL: SOLO AGR        05 UNICANAL: SOLO 1A1 -1152.7099    0.0 -1629.2781 -676.1418   True\n",
      "04 UNICANAL: SOLO AGR        06 BICANAL: ATM & 1A1 -1152.7099    0.0  -1687.438 -617.9819   True\n",
      "04 UNICANAL: SOLO AGR        07 BICANAL: AGR & 1A1   634.5702 0.0033    151.066 1118.0744   True\n",
      "04 UNICANAL: SOLO AGR 08 TRICANAL: ATM & AGR & 1A1   692.8519 0.0036   161.6496 1224.0543   True\n",
      "05 UNICANAL: SOLO 1A1        06 BICANAL: ATM & 1A1        0.0    1.0  -384.5549  384.5549  False\n",
      "05 UNICANAL: SOLO 1A1        07 BICANAL: AGR & 1A1  1787.2801    0.0  1477.8861 2096.6742   True\n",
      "05 UNICANAL: SOLO 1A1 08 TRICANAL: ATM & AGR & 1A1  1845.5618    0.0  1465.9248 2225.1989   True\n",
      "06 BICANAL: ATM & 1A1        07 BICANAL: AGR & 1A1  1787.2801    0.0  1394.1624 2180.3979   True\n",
      "06 BICANAL: ATM & 1A1 08 TRICANAL: ATM & AGR & 1A1  1845.5618    0.0  1395.0719 2296.0518   True\n",
      "07 BICANAL: AGR & 1A1 08 TRICANAL: ATM & AGR & 1A1    58.2817  0.994  -330.0267  446.5901  False\n",
      "------------------------------------------------------------------------------------------------\n"
     ]
    }
   ],
   "source": [
    "import statsmodels.api as sm\n",
    "from statsmodels.formula.api import ols\n",
    "from statsmodels.stats.multicomp import MultiComparison\n",
    "#promedio_transacciones_atms_multifuncionales\n",
    "modelo_anova = ols('conteo_transacciones_cbs_agregador ~ Cluster', data=df_cbs_1).fit()\n",
    "anova_tabla = sm.stats.anova_lm(modelo_anova, typ=2)\n",
    "\n",
    "# Crea un objeto MultiComparison para el análisis de Tukey\n",
    "mc = MultiComparison(df_cbs_1['conteo_transacciones_cbs_agregador'], df_cbs_1['Cluster'])\n",
    "\n",
    "# Realiza el análisis de Tukey\n",
    "resultado_tukey = mc.tukeyhsd()\n",
    "\n",
    "# Imprime el resultado del análisis de Tukey\n",
    "print(resultado_tukey)"
   ]
  },
  {
   "cell_type": "markdown",
   "id": "696ca9ed",
   "metadata": {},
   "source": [
    "### Corresponsales Uno a Uno"
   ]
  },
  {
   "cell_type": "code",
   "execution_count": 68,
   "id": "4cdbd76e",
   "metadata": {},
   "outputs": [
    {
     "name": "stdout",
     "output_type": "stream",
     "text": [
      "                      Multiple Comparison of Means - Tukey HSD, FWER=0.05                      \n",
      "===============================================================================================\n",
      "        group1                   group2             meandiff p-adj    lower      upper   reject\n",
      "-----------------------------------------------------------------------------------------------\n",
      "04 UNICANAL: SOLO AGR        05 UNICANAL: SOLO 1A1 2721.8773 0.0006   876.0409 4567.7138   True\n",
      "04 UNICANAL: SOLO AGR        06 BICANAL: ATM & 1A1 2788.2385 0.0024    717.138  4859.339   True\n",
      "04 UNICANAL: SOLO AGR        07 BICANAL: AGR & 1A1 5286.6682    0.0  3413.9671 7159.3692   True\n",
      "04 UNICANAL: SOLO AGR 08 TRICANAL: ATM & AGR & 1A1 5197.9962    0.0  3140.5515  7255.441   True\n",
      "05 UNICANAL: SOLO 1A1        06 BICANAL: ATM & 1A1   66.3612 0.9999 -1423.0909 1555.8132  False\n",
      "05 UNICANAL: SOLO 1A1        07 BICANAL: AGR & 1A1 2564.7908    0.0  1366.4505 3763.1311   True\n",
      "05 UNICANAL: SOLO 1A1 08 TRICANAL: ATM & AGR & 1A1 2476.1189 0.0001  1005.7145 3946.5233   True\n",
      "06 BICANAL: ATM & 1A1        07 BICANAL: AGR & 1A1 2498.4297 0.0001    975.812 4021.0473   True\n",
      "06 BICANAL: ATM & 1A1 08 TRICANAL: ATM & AGR & 1A1 2409.7577 0.0017   664.9271 4154.5884   True\n",
      "07 BICANAL: AGR & 1A1 08 TRICANAL: ATM & AGR & 1A1  -88.6719 0.9998  -1592.662 1415.3181  False\n",
      "-----------------------------------------------------------------------------------------------\n"
     ]
    }
   ],
   "source": [
    "import statsmodels.api as sm\n",
    "from statsmodels.formula.api import ols\n",
    "from statsmodels.stats.multicomp import MultiComparison\n",
    "#promedio_transacciones_atms_multifuncionales\n",
    "modelo_anova = ols('conteo_transacciones_cbs_uno_a_uno ~ Cluster', data=df_cbs_1).fit()\n",
    "anova_tabla = sm.stats.anova_lm(modelo_anova, typ=2)\n",
    "\n",
    "# Crea un objeto MultiComparison para el análisis de Tukey\n",
    "mc = MultiComparison(df_cbs_1['conteo_transacciones_cbs_uno_a_uno'], df_cbs_1['Cluster'])\n",
    "\n",
    "# Realiza el análisis de Tukey\n",
    "resultado_tukey = mc.tukeyhsd()\n",
    "\n",
    "# Imprime el resultado del análisis de Tukey\n",
    "print(resultado_tukey)"
   ]
  },
  {
   "cell_type": "markdown",
   "id": "0c3a7d9f",
   "metadata": {},
   "source": [
    "# NOTA: \n",
    "\n",
    "Notemos que al realizar la prueba tuckey para los cluster por las variables \"conteo_transacciones_cbs_uno_a_uno\" y \"conteo_transacciones_cbs_agregador\" obtenemos los mismo resultados, es decir que estos canales se comportan de manera igual en los cluster analizados. Teniendo en cuenta que el portafolio transaccional es el mismo y que los establecimientos son del mismo tipo sin importar el formato de uno a uno o agregador, se opta por unir estas dos categorias en una sola, por comodidad lo nombramos como corresponsales informales."
   ]
  },
  {
   "cell_type": "code",
   "execution_count": 60,
   "id": "328e8408",
   "metadata": {},
   "outputs": [
    {
     "data": {
      "text/plain": [
       "Cluster\n",
       "04 UNICANAL: SOLO AGR                0.000000\n",
       "05 UNICANAL: SOLO 1A1           334790.913459\n",
       "06 BICANAL: ATM & 1A1           147776.641148\n",
       "07 BICANAL: AGR & 1A1           565673.493950\n",
       "08 TRICANAL: ATM & AGR & 1A1    285889.793451\n",
       "Name: conteo_transacciones_cbs_uno_a_uno, dtype: float64"
      ]
     },
     "execution_count": 60,
     "metadata": {},
     "output_type": "execute_result"
    }
   ],
   "source": [
    "df_cbs_1.groupby('Cluster')['conteo_transacciones_cbs_uno_a_uno'].sum()"
   ]
  },
  {
   "cell_type": "code",
   "execution_count": 70,
   "id": "2c4df73d",
   "metadata": {},
   "outputs": [
    {
     "data": {
      "text/plain": [
       "Cluster\n",
       "04 UNICANAL: SOLO AGR              0.000000\n",
       "05 UNICANAL: SOLO 1A1           2721.877345\n",
       "06 BICANAL: ATM & 1A1           2788.238512\n",
       "07 BICANAL: AGR & 1A1           5286.668168\n",
       "08 TRICANAL: ATM & AGR & 1A1    5197.996245\n",
       "Name: conteo_transacciones_cbs_uno_a_uno, dtype: float64"
      ]
     },
     "execution_count": 70,
     "metadata": {},
     "output_type": "execute_result"
    }
   ],
   "source": [
    "df_cbs_1.groupby('Cluster')['conteo_transacciones_cbs_uno_a_uno'].mean()"
   ]
  },
  {
   "cell_type": "code",
   "execution_count": 62,
   "id": "b93d369a",
   "metadata": {},
   "outputs": [
    {
     "data": {
      "text/plain": [
       "Cluster\n",
       "04 UNICANAL: SOLO AGR              0.000000\n",
       "05 UNICANAL: SOLO 1A1           1981.333333\n",
       "06 BICANAL: ATM & 1A1           1519.285714\n",
       "07 BICANAL: AGR & 1A1           4834.285714\n",
       "08 TRICANAL: ATM & AGR & 1A1    4568.767857\n",
       "Name: conteo_transacciones_cbs_uno_a_uno, dtype: float64"
      ]
     },
     "execution_count": 62,
     "metadata": {},
     "output_type": "execute_result"
    }
   ],
   "source": [
    "df_cbs_1.groupby('Cluster')['conteo_transacciones_cbs_uno_a_uno'].median()"
   ]
  },
  {
   "cell_type": "code",
   "execution_count": 66,
   "id": "16539e35",
   "metadata": {},
   "outputs": [
    {
     "data": {
      "text/plain": [
       "Cluster\n",
       "04 UNICANAL: SOLO AGR           1152.709918\n",
       "05 UNICANAL: SOLO 1A1              0.000000\n",
       "06 BICANAL: ATM & 1A1              0.000000\n",
       "07 BICANAL: AGR & 1A1           1787.280144\n",
       "08 TRICANAL: ATM & AGR & 1A1    1845.561841\n",
       "Name: conteo_transacciones_cbs_agregador, dtype: float64"
      ]
     },
     "execution_count": 66,
     "metadata": {},
     "output_type": "execute_result"
    }
   ],
   "source": [
    "df_cbs_1.groupby('Cluster')['conteo_transacciones_cbs_agregador'].mean()"
   ]
  },
  {
   "cell_type": "markdown",
   "id": "a8e1dd46",
   "metadata": {},
   "source": [
    "### Corresponsales \"Informales\" (Uno a Uno - Agregadores)"
   ]
  },
  {
   "cell_type": "code",
   "execution_count": 75,
   "id": "d18f3447",
   "metadata": {},
   "outputs": [],
   "source": [
    "df_cbs_1['conteo_transacciones_cbs_informal'] = df_cbs_1['conteo_transacciones_cbs_uno_a_uno'] + df_cbs_1['conteo_transacciones_cbs_agregador']"
   ]
  },
  {
   "cell_type": "code",
   "execution_count": 81,
   "id": "c847ac60",
   "metadata": {},
   "outputs": [
    {
     "data": {
      "text/plain": [
       "Cluster\n",
       "04 UNICANAL: SOLO AGR           1152.709918\n",
       "05 UNICANAL: SOLO 1A1           2721.877345\n",
       "06 BICANAL: ATM & 1A1           2788.238512\n",
       "07 BICANAL: AGR & 1A1           7073.948312\n",
       "08 TRICANAL: ATM & AGR & 1A1    7043.558086\n",
       "Name: conteo_transacciones_cbs_informal, dtype: float64"
      ]
     },
     "execution_count": 81,
     "metadata": {},
     "output_type": "execute_result"
    }
   ],
   "source": [
    "df_cbs_1.groupby('Cluster')['conteo_transacciones_cbs_informal'].mean()"
   ]
  },
  {
   "cell_type": "code",
   "execution_count": 82,
   "id": "7f8f803c",
   "metadata": {},
   "outputs": [
    {
     "data": {
      "text/plain": [
       "Cluster\n",
       "04 UNICANAL: SOLO AGR            862.357143\n",
       "05 UNICANAL: SOLO 1A1           1981.333333\n",
       "06 BICANAL: ATM & 1A1           1519.285714\n",
       "07 BICANAL: AGR & 1A1           6600.976190\n",
       "08 TRICANAL: ATM & AGR & 1A1    5797.325758\n",
       "Name: conteo_transacciones_cbs_informal, dtype: float64"
      ]
     },
     "execution_count": 82,
     "metadata": {},
     "output_type": "execute_result"
    }
   ],
   "source": [
    "df_cbs_1.groupby('Cluster')['conteo_transacciones_cbs_informal'].median()"
   ]
  },
  {
   "cell_type": "code",
   "execution_count": 79,
   "id": "d905db42",
   "metadata": {},
   "outputs": [
    {
     "name": "stdout",
     "output_type": "stream",
     "text": [
      "                      Multiple Comparison of Means - Tukey HSD, FWER=0.05                      \n",
      "===============================================================================================\n",
      "        group1                   group2             meandiff p-adj    lower      upper   reject\n",
      "-----------------------------------------------------------------------------------------------\n",
      "04 UNICANAL: SOLO AGR        05 UNICANAL: SOLO 1A1 1569.1674 0.2112  -454.1563 3592.4912  False\n",
      "04 UNICANAL: SOLO AGR        06 BICANAL: ATM & 1A1 1635.5286 0.2803  -634.7195 3905.7767  False\n",
      "04 UNICANAL: SOLO AGR        07 BICANAL: AGR & 1A1 5921.2384    0.0  3868.4669 7974.0099   True\n",
      "04 UNICANAL: SOLO AGR 08 TRICANAL: ATM & AGR & 1A1 5890.8482    0.0  3635.5689 8146.1275   True\n",
      "05 UNICANAL: SOLO 1A1        06 BICANAL: ATM & 1A1   66.3612    1.0 -1566.3099 1699.0322  False\n",
      "05 UNICANAL: SOLO 1A1        07 BICANAL: AGR & 1A1  4352.071    0.0  3038.5037 5665.6382   True\n",
      "05 UNICANAL: SOLO 1A1 08 TRICANAL: ATM & AGR & 1A1 4321.6807    0.0  2709.8889 5933.4725   True\n",
      "06 BICANAL: ATM & 1A1        07 BICANAL: AGR & 1A1 4285.7098    0.0  2616.6841 5954.7354   True\n",
      "06 BICANAL: ATM & 1A1 08 TRICANAL: ATM & AGR & 1A1 4255.3196    0.0  2342.7139 6167.9253   True\n",
      "07 BICANAL: AGR & 1A1 08 TRICANAL: ATM & AGR & 1A1  -30.3902    1.0 -1678.9971 1618.2167  False\n",
      "-----------------------------------------------------------------------------------------------\n"
     ]
    }
   ],
   "source": [
    "import statsmodels.api as sm\n",
    "from statsmodels.formula.api import ols\n",
    "from statsmodels.stats.multicomp import MultiComparison\n",
    "#promedio_transacciones_atms_multifuncionales\n",
    "modelo_anova = ols('conteo_transacciones_cbs_informal ~ Cluster', data=df_cbs_1).fit()\n",
    "anova_tabla = sm.stats.anova_lm(modelo_anova, typ=2)\n",
    "\n",
    "# Crea un objeto MultiComparison para el análisis de Tukey\n",
    "mc = MultiComparison(df_cbs_1['conteo_transacciones_cbs_informal'], df_cbs_1['Cluster'])\n",
    "\n",
    "# Realiza el análisis de Tukey\n",
    "resultado_tukey = mc.tukeyhsd()\n",
    "\n",
    "# Imprime el resultado del análisis de Tukey\n",
    "print(resultado_tukey)"
   ]
  },
  {
   "cell_type": "markdown",
   "id": "896b3860",
   "metadata": {},
   "source": [
    "## Conclusiones: \n",
    "\n",
    "1. A diferencia de las pruebas individuales, cuando se mezclan estos dos canales se arroja el resultado de que los cluster 4-5 y 4-6 se comportan de manera igual. Analizando este patron iniciando por los cluster 4-5 podemos ver que la diferencia es que en uno hay presencia de corresponsales agregadores (cluster 4) y en el otro corresponsales uno a uno (cluster 5), sin embargo, como ya fue mencionado a pesar de que esten individualmente el patron de comportamiento es el mismo; lo anterior se puede ver explicado por que no hay un cambio drastico en la manera de como el cliente percibe dicho establecimiento. Por otro lado si analizamos el cluster 4-6 percibimos un comportamiento similar donde individualmente hay presencia de corresponsales agregadores (cluster 4) y en el otro corresponsales uno a uno ademas de contar con que siempre hay presencia cajeros dispensadores (cluster 6). Teniendo en cuenta esta prueba y lo mencionado en las conclusiones con respecto a los ATMs dispensadores podemos corroborar de que la presencia de los ATMs solo muestra diferencias significativas (Mejor comportamiento) en lo transaccional cuando esta acompañando canales mas formales como lo son las sucursales o los corresponsales robustos.\n",
    "\n",
    "2. Analizando los otros dos pares de cluster que segun la prueba se comportan de manera igual que son el 5-6 y 7-8, apoyandonos en lo mencionado en la conclusion anterior podemos corroborar dicho patron de comportamiento. en primer caso si observamos 5-6 la gran diferencia es que en el cluster 5 no hay presencia de atms dispensadores en cambio en el cluster 6 siempre hay. utilizando lo dicho en la conclusion anterior podemos decir que el hecho de tener atms que no esten aledaños a canales formales no esta representando un factor para impulsar el aumento del promedio de sus transacciones, contando solo con cbs en dichas zonas se podria decir que se estaria cumpliendo la cobertura de la zona. Para los cluster 7-8 pasa exactamente lo mismo"
   ]
  },
  {
   "cell_type": "markdown",
   "id": "3e173b9c",
   "metadata": {},
   "source": [
    "### Corresponsales \"Formales\" (Robustos)"
   ]
  },
  {
   "cell_type": "code",
   "execution_count": 89,
   "id": "d9582874",
   "metadata": {},
   "outputs": [
    {
     "name": "stderr",
     "output_type": "stream",
     "text": [
      "C:\\Users\\jrecheve\\AppData\\Roaming\\Python\\Python39\\site-packages\\statsmodels\\base\\model.py:1888: ValueWarning: covariance of constraints does not have full rank. The number of constraints is 9, but rank is 0\n",
      "  warnings.warn('covariance of constraints does not have full '\n",
      "C:\\Users\\jrecheve\\AppData\\Roaming\\Python\\Python39\\site-packages\\statsmodels\\base\\model.py:1917: RuntimeWarning: invalid value encountered in true_divide\n",
      "  F /= J\n",
      "C:\\Users\\jrecheve\\AppData\\Roaming\\Python\\Python39\\site-packages\\statsmodels\\sandbox\\stats\\multicomp.py:1300: RuntimeWarning: invalid value encountered in true_divide\n",
      "  st_range = np.abs(meandiffs) / std_pairs #studentized range statistic\n"
     ]
    },
    {
     "name": "stdout",
     "output_type": "stream",
     "text": [
      "                            Multiple Comparison of Means - Tukey HSD, FWER=0.05                            \n",
      "===========================================================================================================\n",
      "               group1                               group2                meandiff p-adj lower upper reject\n",
      "-----------------------------------------------------------------------------------------------------------\n",
      "             00 MULTICANAL: Sucursal            01 MULTICANAL: CB Robusto      0.0   nan   0.0   0.0  False\n",
      "             00 MULTICANAL: Sucursal 02 MULTICANAL: CB Robusto + Sucursal      0.0   nan   0.0   0.0  False\n",
      "             00 MULTICANAL: Sucursal                03 UNICANAL: SOLO ATM      0.0   nan   0.0   0.0  False\n",
      "             00 MULTICANAL: Sucursal                04 UNICANAL: SOLO AGR      0.0   nan   0.0   0.0  False\n",
      "             00 MULTICANAL: Sucursal                05 UNICANAL: SOLO 1A1      0.0   nan   0.0   0.0  False\n",
      "             00 MULTICANAL: Sucursal                06 BICANAL: ATM & 1A1      0.0   nan   0.0   0.0  False\n",
      "             00 MULTICANAL: Sucursal                07 BICANAL: AGR & 1A1      0.0   nan   0.0   0.0  False\n",
      "             00 MULTICANAL: Sucursal         08 TRICANAL: ATM & AGR & 1A1      0.0   nan   0.0   0.0  False\n",
      "             00 MULTICANAL: Sucursal           99 De todo un poco (Noise)      0.0   nan   0.0   0.0  False\n",
      "           01 MULTICANAL: CB Robusto 02 MULTICANAL: CB Robusto + Sucursal      0.0   nan   0.0   0.0  False\n",
      "           01 MULTICANAL: CB Robusto                03 UNICANAL: SOLO ATM      0.0   nan   0.0   0.0  False\n",
      "           01 MULTICANAL: CB Robusto                04 UNICANAL: SOLO AGR      0.0   nan   0.0   0.0  False\n",
      "           01 MULTICANAL: CB Robusto                05 UNICANAL: SOLO 1A1      0.0   nan   0.0   0.0  False\n",
      "           01 MULTICANAL: CB Robusto                06 BICANAL: ATM & 1A1      0.0   nan   0.0   0.0  False\n",
      "           01 MULTICANAL: CB Robusto                07 BICANAL: AGR & 1A1      0.0   nan   0.0   0.0  False\n",
      "           01 MULTICANAL: CB Robusto         08 TRICANAL: ATM & AGR & 1A1      0.0   nan   0.0   0.0  False\n",
      "           01 MULTICANAL: CB Robusto           99 De todo un poco (Noise)      0.0   nan   0.0   0.0  False\n",
      "02 MULTICANAL: CB Robusto + Sucursal                03 UNICANAL: SOLO ATM      0.0   nan   0.0   0.0  False\n",
      "02 MULTICANAL: CB Robusto + Sucursal                04 UNICANAL: SOLO AGR      0.0   nan   0.0   0.0  False\n",
      "02 MULTICANAL: CB Robusto + Sucursal                05 UNICANAL: SOLO 1A1      0.0   nan   0.0   0.0  False\n",
      "02 MULTICANAL: CB Robusto + Sucursal                06 BICANAL: ATM & 1A1      0.0   nan   0.0   0.0  False\n",
      "02 MULTICANAL: CB Robusto + Sucursal                07 BICANAL: AGR & 1A1      0.0   nan   0.0   0.0  False\n",
      "02 MULTICANAL: CB Robusto + Sucursal         08 TRICANAL: ATM & AGR & 1A1      0.0   nan   0.0   0.0  False\n",
      "02 MULTICANAL: CB Robusto + Sucursal           99 De todo un poco (Noise)      0.0   nan   0.0   0.0  False\n",
      "               03 UNICANAL: SOLO ATM                04 UNICANAL: SOLO AGR      0.0   nan   0.0   0.0  False\n",
      "               03 UNICANAL: SOLO ATM                05 UNICANAL: SOLO 1A1      0.0   nan   0.0   0.0  False\n",
      "               03 UNICANAL: SOLO ATM                06 BICANAL: ATM & 1A1      0.0   nan   0.0   0.0  False\n",
      "               03 UNICANAL: SOLO ATM                07 BICANAL: AGR & 1A1      0.0   nan   0.0   0.0  False\n",
      "               03 UNICANAL: SOLO ATM         08 TRICANAL: ATM & AGR & 1A1      0.0   nan   0.0   0.0  False\n",
      "               03 UNICANAL: SOLO ATM           99 De todo un poco (Noise)      0.0   nan   0.0   0.0  False\n",
      "               04 UNICANAL: SOLO AGR                05 UNICANAL: SOLO 1A1      0.0   nan   0.0   0.0  False\n",
      "               04 UNICANAL: SOLO AGR                06 BICANAL: ATM & 1A1      0.0   nan   0.0   0.0  False\n",
      "               04 UNICANAL: SOLO AGR                07 BICANAL: AGR & 1A1      0.0   nan   0.0   0.0  False\n",
      "               04 UNICANAL: SOLO AGR         08 TRICANAL: ATM & AGR & 1A1      0.0   nan   0.0   0.0  False\n",
      "               04 UNICANAL: SOLO AGR           99 De todo un poco (Noise)      0.0   nan   0.0   0.0  False\n",
      "               05 UNICANAL: SOLO 1A1                06 BICANAL: ATM & 1A1      0.0   nan   0.0   0.0  False\n",
      "               05 UNICANAL: SOLO 1A1                07 BICANAL: AGR & 1A1      0.0   nan   0.0   0.0  False\n",
      "               05 UNICANAL: SOLO 1A1         08 TRICANAL: ATM & AGR & 1A1      0.0   nan   0.0   0.0  False\n",
      "               05 UNICANAL: SOLO 1A1           99 De todo un poco (Noise)      0.0   nan   0.0   0.0  False\n",
      "               06 BICANAL: ATM & 1A1                07 BICANAL: AGR & 1A1      0.0   nan   0.0   0.0  False\n",
      "               06 BICANAL: ATM & 1A1         08 TRICANAL: ATM & AGR & 1A1      0.0   nan   0.0   0.0  False\n",
      "               06 BICANAL: ATM & 1A1           99 De todo un poco (Noise)      0.0   nan   0.0   0.0  False\n",
      "               07 BICANAL: AGR & 1A1         08 TRICANAL: ATM & AGR & 1A1      0.0   nan   0.0   0.0  False\n",
      "               07 BICANAL: AGR & 1A1           99 De todo un poco (Noise)      0.0   nan   0.0   0.0  False\n",
      "        08 TRICANAL: ATM & AGR & 1A1           99 De todo un poco (Noise)      0.0   nan   0.0   0.0  False\n",
      "-----------------------------------------------------------------------------------------------------------\n"
     ]
    }
   ],
   "source": [
    "import statsmodels.api as sm\n",
    "from statsmodels.formula.api import ols\n",
    "from statsmodels.stats.multicomp import MultiComparison\n",
    "#promedio_transacciones_atms_multifuncionales\n",
    "modelo_anova = ols('conteo_transacciones_cbs_robustos ~ Cluster', data=prueba).fit()\n",
    "anova_tabla = sm.stats.anova_lm(modelo_anova, typ=2)\n",
    "\n",
    "# Crea un objeto MultiComparison para el análisis de Tukey\n",
    "mc = MultiComparison(prueba['conteo_transacciones_cbs_robustos'], prueba['Cluster'])\n",
    "\n",
    "# Realiza el análisis de Tukey\n",
    "resultado_tukey = mc.tukeyhsd()\n",
    "\n",
    "# Imprime el resultado del análisis de Tukey\n",
    "print(resultado_tukey)"
   ]
  },
  {
   "cell_type": "code",
   "execution_count": 92,
   "id": "3ef2b22f",
   "metadata": {},
   "outputs": [
    {
     "data": {
      "text/plain": [
       "Cluster\n",
       "00 MULTICANAL: Sucursal                 0.000000\n",
       "01 MULTICANAL: CB Robusto               1.000000\n",
       "02 MULTICANAL: CB Robusto + Sucursal    1.000000\n",
       "03 UNICANAL: SOLO ATM                   0.000000\n",
       "04 UNICANAL: SOLO AGR                   0.000000\n",
       "05 UNICANAL: SOLO 1A1                   0.000000\n",
       "06 BICANAL: ATM & 1A1                   0.000000\n",
       "07 BICANAL: AGR & 1A1                   0.000000\n",
       "08 TRICANAL: ATM & AGR & 1A1            0.000000\n",
       "99 De todo un poco (Noise)              0.736842\n",
       "Name: conteo_cbs_robustos, dtype: float64"
      ]
     },
     "execution_count": 92,
     "metadata": {},
     "output_type": "execute_result"
    }
   ],
   "source": [
    "prueba.groupby('Cluster')['conteo_cbs_robustos'].mean()"
   ]
  },
  {
   "cell_type": "code",
   "execution_count": 91,
   "id": "8d23e5ef",
   "metadata": {},
   "outputs": [
    {
     "data": {
      "text/plain": [
       "Cluster\n",
       "00 MULTICANAL: Sucursal                 0.0\n",
       "01 MULTICANAL: CB Robusto               0.0\n",
       "02 MULTICANAL: CB Robusto + Sucursal    0.0\n",
       "03 UNICANAL: SOLO ATM                   0.0\n",
       "04 UNICANAL: SOLO AGR                   0.0\n",
       "05 UNICANAL: SOLO 1A1                   0.0\n",
       "06 BICANAL: ATM & 1A1                   0.0\n",
       "07 BICANAL: AGR & 1A1                   0.0\n",
       "08 TRICANAL: ATM & AGR & 1A1            0.0\n",
       "99 De todo un poco (Noise)              0.0\n",
       "Name: conteo_transacciones_cbs_robustos, dtype: float64"
      ]
     },
     "execution_count": 91,
     "metadata": {},
     "output_type": "execute_result"
    }
   ],
   "source": [
    "prueba.groupby('Cluster')['conteo_transacciones_cbs_robustos'].mean()"
   ]
  },
  {
   "cell_type": "markdown",
   "id": "d316e119",
   "metadata": {},
   "source": [
    "### Sucursales"
   ]
  },
  {
   "cell_type": "code",
   "execution_count": 116,
   "id": "a71c5e39",
   "metadata": {},
   "outputs": [
    {
     "name": "stdout",
     "output_type": "stream",
     "text": [
      "                       Multiple Comparison of Means - Tukey HSD, FWER=0.05                        \n",
      "==================================================================================================\n",
      "         group1                        group2                meandiff p-adj  lower   upper  reject\n",
      "--------------------------------------------------------------------------------------------------\n",
      "00 MULTICANAL: Sucursal 02 MULTICANAL: CB Robusto + Sucursal    6.658 0.0005 3.0221 10.2938   True\n",
      "--------------------------------------------------------------------------------------------------\n"
     ]
    }
   ],
   "source": [
    "import statsmodels.api as sm\n",
    "from statsmodels.formula.api import ols\n",
    "from statsmodels.stats.multicomp import MultiComparison\n",
    "#promedio_transacciones_atms_multifuncionales\n",
    "modelo_anova = ols('calificacion_promedio_sucursales ~ Cluster', data=df_suc).fit()\n",
    "anova_tabla = sm.stats.anova_lm(modelo_anova, typ=2)\n",
    "\n",
    "# Crea un objeto MultiComparison para el análisis de Tukey\n",
    "mc = MultiComparison(df_suc['calificacion_promedio_sucursales'], df_suc['Cluster'])\n",
    "\n",
    "# Realiza el análisis de Tukey\n",
    "resultado_tukey = mc.tukeyhsd()\n",
    "\n",
    "# Imprime el resultado del análisis de Tukey\n",
    "print(resultado_tukey)"
   ]
  },
  {
   "cell_type": "code",
   "execution_count": 118,
   "id": "a56c97f6",
   "metadata": {},
   "outputs": [
    {
     "name": "stdout",
     "output_type": "stream",
     "text": [
      "                             Multiple Comparison of Means - Tukey HSD, FWER=0.05                             \n",
      "=============================================================================================================\n",
      "         group1                        group2                 meandiff  p-adj     lower       upper    reject\n",
      "-------------------------------------------------------------------------------------------------------------\n",
      "00 MULTICANAL: Sucursal 02 MULTICANAL: CB Robusto + Sucursal 53580.7216 0.3638 -63133.0012 170294.4444  False\n",
      "-------------------------------------------------------------------------------------------------------------\n"
     ]
    }
   ],
   "source": [
    "import statsmodels.api as sm\n",
    "from statsmodels.formula.api import ols\n",
    "from statsmodels.stats.multicomp import MultiComparison\n",
    "#promedio_transacciones_atms_multifuncionales\n",
    "modelo_anova = ols('suma_tc ~ Cluster', data=df_suc).fit()\n",
    "anova_tabla = sm.stats.anova_lm(modelo_anova, typ=2)\n",
    "\n",
    "# Crea un objeto MultiComparison para el análisis de Tukey\n",
    "mc = MultiComparison(df_suc['suma_tc'], df_suc['Cluster'])\n",
    "\n",
    "# Realiza el análisis de Tukey\n",
    "resultado_tukey = mc.tukeyhsd()\n",
    "\n",
    "# Imprime el resultado del análisis de Tukey\n",
    "print(resultado_tukey)"
   ]
  },
  {
   "cell_type": "code",
   "execution_count": 119,
   "id": "27172400",
   "metadata": {},
   "outputs": [
    {
     "name": "stdout",
     "output_type": "stream",
     "text": [
      "                          Multiple Comparison of Means - Tukey HSD, FWER=0.05                          \n",
      "=======================================================================================================\n",
      "         group1                        group2                 meandiff p-adj   lower     upper   reject\n",
      "-------------------------------------------------------------------------------------------------------\n",
      "00 MULTICANAL: Sucursal 02 MULTICANAL: CB Robusto + Sucursal 7098.0561 0.0244 938.4961 13257.616   True\n",
      "-------------------------------------------------------------------------------------------------------\n"
     ]
    }
   ],
   "source": [
    "import statsmodels.api as sm\n",
    "from statsmodels.formula.api import ols\n",
    "from statsmodels.stats.multicomp import MultiComparison\n",
    "\n",
    "modelo_anova = ols('conteo_clientes ~ Cluster', data=df_suc).fit()\n",
    "anova_tabla = sm.stats.anova_lm(modelo_anova, typ=2)\n",
    "\n",
    "# Crea un objeto MultiComparison para el análisis de Tukey\n",
    "mc = MultiComparison(df_suc['conteo_clientes'], df_suc['Cluster'])\n",
    "\n",
    "# Realiza el análisis de Tukey\n",
    "resultado_tukey = mc.tukeyhsd()\n",
    "\n",
    "# Imprime el resultado del análisis de Tukey\n",
    "print(resultado_tukey)"
   ]
  },
  {
   "cell_type": "markdown",
   "id": "7000951e",
   "metadata": {},
   "source": [
    "# Nota: \n",
    "Santi para corresponsales robustos me di cuenta que no contamos con transacciones desde la primera base que nos habia enviado Santiago Valencia, Seria entonces analizar este canal con los diferentes indicadores para dicho formato para ver que podemos encontrar. y en cuanto sucursales de las unicas variable que incluimos dentro de la base es la calificación de la sucursal y la suma del tamaño comercial. por la pruebase evidencia que las calificaciones promedio son diferentes en los dos cluster analizados que son el 0 y el 2, y por la diferencia de medias se ve que el que tiene mayor calificacion promedio es cluster 2. en cuanto a suma de tamaño comercial se comporta igual ambos clusters, y por el ultimo al revisar el conteo de cliente en estos cluster sucede al igual que en la suma del tamaño comercial el comportamiento es diferente y el conteo de clientes es mayor en cluster 2 "
   ]
  },
  {
   "cell_type": "code",
   "execution_count": null,
   "id": "244e1231",
   "metadata": {},
   "outputs": [],
   "source": []
  }
 ],
 "metadata": {
  "kernelspec": {
   "display_name": "Python 3 (ipykernel)",
   "language": "python",
   "name": "python3"
  },
  "language_info": {
   "codemirror_mode": {
    "name": "ipython",
    "version": 3
   },
   "file_extension": ".py",
   "mimetype": "text/x-python",
   "name": "python",
   "nbconvert_exporter": "python",
   "pygments_lexer": "ipython3",
   "version": "3.9.7"
  }
 },
 "nbformat": 4,
 "nbformat_minor": 5
}
